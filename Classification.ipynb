{
 "cells": [
  {
   "cell_type": "markdown",
   "metadata": {},
   "source": [
    "# Notebook for understanding and exploring Classification\n",
    "\n",
    "In general, classification is the task of discriminating samples between sub-groups. What this means is that we want to find some pattern or markers that can tell us if a measure belongs to one class or the other. \n",
    "\n",
    "Alot of different methods are employed when doing classification, however it shares similarities with Regression in that we fit a model to data that can, hopefully, classify new samples. "
   ]
  },
  {
   "cell_type": "markdown",
   "metadata": {},
   "source": [
    "## Performance metrics\n",
    "\n",
    "When talking about performance of classification tasks, we often measure and compare how many correct and wrong guesses a model gives on average. We can categorise these: \n",
    "* TP = True Positive, when a model predicts positive and it is in fact positive \n",
    "* FP = False Positive, when a model predicts positive and it is in fact negative \n",
    "* TN = True Negative, when a model predicts a negative and it is negative \n",
    "* FN = False Negative, when a model predicts a negative but it was positive \n",
    "\n",
    "These are combined as ratios to produce some well known performance indeces.\n",
    "\n",
    "* accuracy -> $\\frac{TP+TN}{\\text{Total number of instances}}$  \n",
    "\n",
    "* precision -> $\\frac{TP}{TP+FP}$  \n",
    "\n",
    "* recall -> $\\frac{TP}{TP+FN}$  \n",
    "\n",
    "* sensitivity -> $\\frac{TP}{\\text{Total number of true instances}}$"
   ]
  },
  {
   "cell_type": "markdown",
   "metadata": {},
   "source": []
  }
 ],
 "metadata": {
  "language_info": {
   "name": "python"
  }
 },
 "nbformat": 4,
 "nbformat_minor": 2
}
