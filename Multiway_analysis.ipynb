{
 "cells": [
  {
   "cell_type": "markdown",
   "metadata": {},
   "source": [
    "# Notebook for understanding Multiway Analysis \n",
    "\n",
    "Multiway analysis is analysis of multiway data. Multiway data is data compiled in more dimensions than 2. So in many cases we have data in a table, 2-way data, with columns and samples. In multiway we extend this notion in more than 2-way. So we could have the temperature measured in a room at coordinate x and y at time t, making 3-way data. \n",
    "\n",
    "In many cases this is an extension of the analysis done on 2-way data. However more complex. \n",
    "\n",
    "One way to do this analysis is to break the multi-way matrix down to a 2-way matrix then applying known methods. However, what is the best way of doing this without ruining the relation captured by the higher dimensional data? \n",
    "\n",
    "**straight unfolding** is the simplest method to get form higher dimensional to 2-way. Here we simply take slices of the data-block and concatenate these into one big table. \n",
    "\n",
    "More complex methods exist to do this aswell. "
   ]
  },
  {
   "cell_type": "markdown",
   "metadata": {},
   "source": [
    "## PARAFAC - Parallel factor analysis\n"
   ]
  },
  {
   "cell_type": "markdown",
   "metadata": {},
   "source": []
  }
 ],
 "metadata": {
  "language_info": {
   "name": "python"
  }
 },
 "nbformat": 4,
 "nbformat_minor": 2
}
