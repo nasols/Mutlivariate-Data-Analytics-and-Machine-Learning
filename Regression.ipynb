{
 "cells": [
  {
   "cell_type": "markdown",
   "metadata": {},
   "source": [
    "# Notebook for understanding and exploring Regression\n",
    "\n",
    "Regression analysis is a statistical process for estimating relationship between a dependent variable and one or more independent variables. \n",
    "\n",
    "We often denote the dependent variable as **response**, and the independent variables as **eplainatory variables**.\n",
    "\n",
    "Most often regression aims to be used in two problems. Firstly, prediction or forecasting, this includes the field of machine learning. Here we aim to model some problem given a set of data and then to use the model to do prediction.  \n",
    "Second are usecases where we want to deduce, or find causal relationships between the independent and dependent variable."
   ]
  },
  {
   "cell_type": "markdown",
   "metadata": {},
   "source": [
    "## Regression Model\n",
    "\n",
    "In practice we select a model we would like to estimate. Then we use some method, e.g. ordinary least squares, to estimate the parameters of that model. We can introduce following concepts: \n",
    "* Unknown parameters $\\beta$ or $\\theta$\n",
    "* Independent variables, often observed data, $X_i$\n",
    "* Dependent variables, observed in data, often the targets of our regression, $Y_i$\n",
    "* Error terms, these are not directly observed, however modeled or assumed to be from some distribution. \n",
    "\n",
    "Using these terms, we can formulate the general regression problem: \n",
    "$$Y_i = f(X_i, \\beta) + \\epsilon_i$$\n",
    "\n",
    "Where the goal is to find the model f, fitting the targets, Y, best. To find this model we need to adjust the model parameters, $\\beta$, as to minimize the error of our predictions. "
   ]
  },
  {
   "cell_type": "markdown",
   "metadata": {},
   "source": [
    "## Assumptions \n",
    "\n",
    "Regression is just math, and to be reliable we depend on some assumptions for the results to have some information that actually represent the world. \n",
    "\n",
    "* The samples we collect are representative of the population \n",
    "* The independent variables are measured with no error \n",
    "* Deviations from the model have an expected value of zero, $E[\\epsilon_i | X_i] = 0$\n",
    "* The variance of the residuals, $e_i$ is constant across observations\n",
    "* The residuals, $e_i$, are uncorrelated. "
   ]
  },
  {
   "cell_type": "markdown",
   "metadata": {},
   "source": [
    "## Performance Indexes \n",
    "\n",
    "To see how well our model performs, we test it. This is done using some error metric, and alot of them exist with their own pros and cons. \n",
    "\n",
    "### RMSE -> Root Mean Squared Error \n",
    "$$RMSE = \\sqrt{E[||\\theta - \\hat{\\theta}||]^2}$$\n",
    "\n",
    "This metric looks at the root of the squared error between the optimal model parameters and the estimated parameters. This is minimizing the Bias. \n",
    "\n",
    "We can also write as, \n",
    "$$RMSE = \\sqrt{(Y_I - f(X_i, \\hat{\\theta}))^2}$$\n",
    "\n",
    "Minimizing this corresponds to minimizing the expected devianse of model parameters. We here minimize the residuals, namely difference between the targets and the model predictions given the model parameter estimates. \n",
    "\n",
    "\n"
   ]
  },
  {
   "cell_type": "markdown",
   "metadata": {},
   "source": [
    "### Least Squares, Residual Sum of Squares, Sum of Squares \n",
    "\n",
    "We try to minimize the square of the residuals. \n",
    "\n",
    "$$RSS = \\sum_{i=0}^{N} (y_i - \\hat{y_i})^2$$\n",
    "\n",
    "One thing to note about this particular formulation is that the sum of residuals increase when N increase. Not due to the model being bad, but just by summing over more terms.  \n",
    "Another thing is that if the scale of variables differ the error for larger dimensionality variables will dominate. And the resulting error does not capture how the model performs on differen variables. "
   ]
  },
  {
   "cell_type": "markdown",
   "metadata": {},
   "source": []
  },
  {
   "cell_type": "markdown",
   "metadata": {},
   "source": []
  }
 ],
 "metadata": {
  "language_info": {
   "name": "python"
  }
 },
 "nbformat": 4,
 "nbformat_minor": 2
}
