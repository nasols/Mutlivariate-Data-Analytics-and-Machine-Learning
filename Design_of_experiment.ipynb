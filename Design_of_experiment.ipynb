{
 "cells": [
  {
   "cell_type": "markdown",
   "metadata": {},
   "source": [
    "# Notebook for understanding and exploring Design of Experiments, DoE \n",
    "\n",
    "DoE is the design of any task that aims to describe and explain the variation of information under conditions that are hypothesized to reflect the variation. The design refers to how to conduct experiments to gain maximum amount of information. \n",
    "\n",
    "In cases where it might be expensive to perform some experiment, or time comsuming, designing experiments properly could save alot. "
   ]
  },
  {
   "cell_type": "markdown",
   "metadata": {},
   "source": [
    "## Different Designs \n",
    "\n",
    "We can employ different designs to our experiments to gain information. We can calculate how different variables will affect the response. We can also calculate the *power* of the design, which is the probability of the design revieling something. Power usually should be above 80%. \n",
    "\n",
    "\n",
    "<div>\n",
    "<img src=\"./images/doe_cycle.png\" width=\"500\">\n",
    "</div>\n",
    "\n",
    "### OVAT, One variable at a time \n",
    "\n",
    "OVAT is a method where we essentially employ grid search to the problem. This is good in that it will end up with the best parameters, however need to go through all possible combinations. This is time cumbersome and requires alot of experiments fast. \n",
    "\n",
    "Experimental design aims to do better than OVAT, finding the optimum in much lesser time. \n",
    "\n",
    "Some pros with using Experimental Design \n",
    "* We find the main effect of the underlying data \n",
    "* We find the interactions between variables and the response \n",
    "* The number of experiments is unknown in OVAT but known per step in experimental design \n",
    "* With a new objective we need to redo the OVAT method, but can re-use the experimental design results \n",
    "\n",
    "\n",
    "\n",
    "\n"
   ]
  },
  {
   "cell_type": "markdown",
   "metadata": {},
   "source": [
    "### Factorial Design \n",
    "\n",
    "A factorial experiment is an experiment whose design consists of two or more factors, each with discrete possible values or \"levels\", and whose experimental units take on all the possible compbinations of these levels. Such designs allows the investigator to study the effect of each factor to the response, as well as interactions between the variables' effect on the response. \n",
    "\n",
    "One major pro with factorial design over OVAT is that if a variable is much more important to the response than other variables, this is not captured in OVAT. Thus we need factorial.\n",
    "\n",
    "One dissadvantage with factorial design is that the sample size needed grow exponentially with the number of factors. This is in general true for **full factorial designs** (as explained here), but are mitigated in other cases as **fractional factorial designs**. \n",
    "\n",
    "The simplest factorial experiments contains two levels for each of two factors. We often depict this as a cube (or hypercube) with the results of an experiment where the two factors at their respective level on the vertice. \n",
    "\n",
    "Given 2 factors with 2 levelse, we call this a 2x2 experiment, or $2^2$. In general:  $\\text{number levels}^{\\text{number factors}}$\n",
    "So if we have 3 factors with 2 levels each we have 8 experiments to capture all the in-between relationships. \n",
    "<div>\n",
    "<img src=\"./images/factorial_design.png\" width=\"200\">\n",
    "</div>\n",
    "\n",
    "\n",
    "\n",
    "| A/B | 1        | 2        | 3        |\n",
    "|-----------------|-----------------|-----------------|-----------------|\n",
    "|1| $\\mu_{11}$ | $\\mu_{12}$ | $\\mu_{13}$ |\n",
    "|2| $\\mu_{21}$ | $\\mu_{22}$ | $\\mu_{23}$ |\n",
    "\n",
    "#### Cell mean \n",
    "The expected response to a given treatment combination (an experiment with different fature levels) is called a cell mean. \n",
    "\n",
    "#### Contrast \n",
    "A contrast in cell means is a linear combination of cell means in which the coefficients sum to 0. Imagine having a table describing the facotrial experiment results. Each result given as one $\\mu_{ij}$. One contrast might be \n",
    "$$\\mu_{11} - \\mu_{12}$$\n",
    "\n",
    "This contrast compares the mean responses of the treatment combinations, 11 and 12, coefficients being 1 and -1, summin to zero. \n",
    "\n",
    "As an example, take the contrast \n",
    "$$\\mu_{11}+\\mu_{12}+\\mu_{13}-\\mu_{21}-\\mu_{22}-\\mu_{23}$$\n",
    "\n",
    "This compares the response from the two levels of A. The main effect of A is said to be absent if this expression equals 0. \n",
    "\n",
    "#### Interaction \n",
    "Interaction is the lack of additivitiy between factors. The contrasts\n",
    "$$\\mu_{11}-\\mu_{12}-\\mu_{21}+\\mu_{22}$$ \n",
    "$$\\mu_{11}-\\mu_{13}-\\mu_{21}+\\mu_{23}$$\n",
    "belong to the AxB interaction. Interactions is absent if the two expressions are 0. "
   ]
  },
  {
   "cell_type": "markdown",
   "metadata": {},
   "source": [
    "### Fractional Factorial Design\n",
    "\n",
    "We carefully pick a subset of the experiments from a full factorial design. The subset is chosen to exploit the sparsity-of-effects principle. In short, it takes advantage of the fact that many experiments in the full factorial design is redundant. \n",
    "\n",
    "The sparsity-of-effects principle is stating that higher order interactions between main effects are typically negligible. Making the main effects and two-factor interactions the most significant. \n",
    "\n",
    "We express the fractional design as \n",
    "$$\\text{levels}^{\\text{number of factors} - \\text{size of the fraction of full factorial used}}$$\n",
    "often denoted \n",
    "$$l^{k - p}$$\n",
    "\n",
    "The p denotes the size of the full factorial used. We call p the number of generators, that is; relationships that determine the intentionally confounded effects that reduce the number of runs needed. So each generator reduce the number of runs required by half.\n",
    "\n",
    "In factorial design one rarely encounter number of levels above 2. \n"
   ]
  },
  {
   "cell_type": "markdown",
   "metadata": {},
   "source": []
  }
 ],
 "metadata": {
  "language_info": {
   "name": "python"
  }
 },
 "nbformat": 4,
 "nbformat_minor": 2
}
